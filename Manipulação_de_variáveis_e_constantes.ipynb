{
  "nbformat": 4,
  "nbformat_minor": 0,
  "metadata": {
    "colab": {
      "provenance": [],
      "include_colab_link": true
    },
    "kernelspec": {
      "name": "python3",
      "display_name": "Python 3"
    }
  },
  "cells": [
    {
      "cell_type": "markdown",
      "metadata": {
        "id": "view-in-github",
        "colab_type": "text"
      },
      "source": [
        "<a href=\"https://colab.research.google.com/github/VictorAlexandr/Curso_Rapido_de_Python/blob/main/Manipula%C3%A7%C3%A3o_de_vari%C3%A1veis_e_constantes.ipynb\" target=\"_parent\"><img src=\"https://colab.research.google.com/assets/colab-badge.svg\" alt=\"Open In Colab\"/></a>"
      ]
    },
    {
      "cell_type": "markdown",
      "metadata": {
        "id": "V8QjcFa6R5y2"
      },
      "source": [
        "# Manipulação de variáveis e constantes"
      ]
    },
    {
      "cell_type": "markdown",
      "metadata": {
        "id": "vpSo8ozVTLCo"
      },
      "source": [
        "## Variáveis e constantes\n",
        "\n",
        "- Por meio de variáveis que um algortimo “guarda” os dados do problema\n",
        "- Todo dado que tem a possibilidade de ser alterado no decorrer do tempo deverá ser tratado como uma variável\n",
        "- Quando um dado não tem nenhuma possibilidade de variar no decorrer do tempo, deverá ser tratado como constante\n",
        "\n",
        "Exemplo: calcular a área de um triângulo. Sabemos que a fórmula para o cálculo da área de um triângulo é BASE * ALTURA / 2. **Base** e **altura** são dados que irão variar no decorrer do “tempo de execução”. O número 2 da fórmula é um dado constante, pois sempre terá o mesmo valor\n",
        "\n",
        "## Tipo de variáveis\n",
        "\n",
        "- Inteiros: valores positivos ou negativos, que não possuem uma parte fracionária. Exemplos: 1, 30, 40, 12, -50\n",
        "- Float (real): valores positivos ou negativos, que podem possuir uma parte fracionária (também podem ser inteiros). Exemplos: 1.4, 6.7, 10.3, 100, -47\n",
        "- Caracteres (char ou string): qualquer elemento presente no teclado. Exemplos: “Maria”, “João”, ‘M’, ‘F’\n",
        "- Lógico (boleano): verdadeiro ou falso. Exemplos: true, false, 1, 0"
      ]
    },
    {
      "cell_type": "markdown",
      "metadata": {
        "id": "dJuQ83faR_Pc"
      },
      "source": [
        "## Variáveis inteiras"
      ]
    },
    {
      "cell_type": "code",
      "metadata": {
        "id": "AlNS5Ngsm_dB"
      },
      "source": [
        "numero = -3\n",
        "numero_jogos = 14\n",
        "numero_convidados = 15"
      ],
      "execution_count": 1,
      "outputs": []
    },
    {
      "cell_type": "code",
      "metadata": {
        "id": "h11ASYEknOD1",
        "colab": {
          "base_uri": "https://localhost:8080/"
        },
        "outputId": "a79acda1-1657-49c9-b031-9cfe2afb09b5"
      },
      "source": [
        "numero"
      ],
      "execution_count": 2,
      "outputs": [
        {
          "output_type": "execute_result",
          "data": {
            "text/plain": [
              "-3"
            ]
          },
          "metadata": {},
          "execution_count": 2
        }
      ]
    },
    {
      "cell_type": "code",
      "metadata": {
        "id": "c8kmjtIinQNi",
        "colab": {
          "base_uri": "https://localhost:8080/"
        },
        "outputId": "ee554a67-eccd-4d95-bd73-6eab19bdd38f"
      },
      "source": [
        "print(numero)"
      ],
      "execution_count": 3,
      "outputs": [
        {
          "output_type": "stream",
          "name": "stdout",
          "text": [
            "-3\n"
          ]
        }
      ]
    },
    {
      "cell_type": "code",
      "metadata": {
        "id": "KP0Wt0yynY7b",
        "colab": {
          "base_uri": "https://localhost:8080/"
        },
        "outputId": "657b0d17-d9db-460e-ea56-5bd6b67d62b7"
      },
      "source": [
        "print(numero, numero_convidados)"
      ],
      "execution_count": 4,
      "outputs": [
        {
          "output_type": "stream",
          "name": "stdout",
          "text": [
            "-3 15\n"
          ]
        }
      ]
    },
    {
      "cell_type": "markdown",
      "metadata": {
        "id": "JhCsz7fBSQ8E"
      },
      "source": [
        "## Variáveis float (ponto flutuante)"
      ]
    },
    {
      "cell_type": "code",
      "metadata": {
        "id": "wNQq80punev_"
      },
      "source": [
        "pi = 3.14\n",
        "numero_euler = 2.71\n",
        "escala_terremoto = -4.55"
      ],
      "execution_count": 5,
      "outputs": []
    },
    {
      "cell_type": "code",
      "metadata": {
        "id": "yusfNXQ2nmCv",
        "colab": {
          "base_uri": "https://localhost:8080/"
        },
        "outputId": "8cc4c2cb-a2c6-42a2-d51e-a014d2578e32"
      },
      "source": [
        "print(pi)\n",
        "print(numero_euler)\n",
        "print(escala_terremoto)"
      ],
      "execution_count": 6,
      "outputs": [
        {
          "output_type": "stream",
          "name": "stdout",
          "text": [
            "3.14\n",
            "2.71\n",
            "-4.55\n"
          ]
        }
      ]
    },
    {
      "cell_type": "markdown",
      "metadata": {
        "id": "fCiZKeOFSwig"
      },
      "source": [
        "## Strings e chars"
      ]
    },
    {
      "cell_type": "code",
      "metadata": {
        "id": "yvccp63ZnvEZ"
      },
      "source": [
        "letra = 'a'\n",
        "palavra1 = 'linguagem de programação'\n",
        "palavra2 = 'Python'"
      ],
      "execution_count": 7,
      "outputs": []
    },
    {
      "cell_type": "code",
      "metadata": {
        "id": "AwZul8K-n3L-",
        "colab": {
          "base_uri": "https://localhost:8080/"
        },
        "outputId": "27f9f9dd-dcf7-404c-814c-9828f5172a0a"
      },
      "source": [
        "print(letra, palavra1)"
      ],
      "execution_count": 8,
      "outputs": [
        {
          "output_type": "stream",
          "name": "stdout",
          "text": [
            "a linguagem de programação\n"
          ]
        }
      ]
    },
    {
      "cell_type": "code",
      "metadata": {
        "id": "DnEKLamYn7Vw",
        "colab": {
          "base_uri": "https://localhost:8080/"
        },
        "outputId": "62b7eed5-53ed-4400-8b28-9e6ac795808f"
      },
      "source": [
        "print('Estou aprendendo uma', palavra1)"
      ],
      "execution_count": 9,
      "outputs": [
        {
          "output_type": "stream",
          "name": "stdout",
          "text": [
            "Estou aprendendo uma linguagem de programação\n"
          ]
        }
      ]
    },
    {
      "cell_type": "code",
      "metadata": {
        "id": "07uhcWXEoGHs",
        "colab": {
          "base_uri": "https://localhost:8080/"
        },
        "outputId": "97bd86e2-88cc-4f67-eede-83194d5b8c1b"
      },
      "source": [
        "print('Esta', palavra1, 'se chama', palavra2)"
      ],
      "execution_count": 10,
      "outputs": [
        {
          "output_type": "stream",
          "name": "stdout",
          "text": [
            "Esta linguagem de programação se chama Python\n"
          ]
        }
      ]
    },
    {
      "cell_type": "code",
      "metadata": {
        "id": "QbO7XNY3oQKk",
        "colab": {
          "base_uri": "https://localhost:8080/"
        },
        "outputId": "2690d078-2270-49b5-8638-a72f1e85baa1"
      },
      "source": [
        "idade = int(input('Digite sua idade:'))\n",
        "print('Sua idade é ', idade)"
      ],
      "execution_count": 11,
      "outputs": [
        {
          "output_type": "stream",
          "name": "stdout",
          "text": [
            "Digite sua idade:10\n",
            "Sua idade é  10\n"
          ]
        }
      ]
    },
    {
      "cell_type": "code",
      "metadata": {
        "id": "4Bmhcm_sogXZ",
        "colab": {
          "base_uri": "https://localhost:8080/"
        },
        "outputId": "027742f0-1a60-4ac6-ae33-1147536aa44f"
      },
      "source": [
        "pH = float(input('Qual o pH do solo durante a última medição?'))\n",
        "print('O pH medido foi ', pH)"
      ],
      "execution_count": 12,
      "outputs": [
        {
          "output_type": "stream",
          "name": "stdout",
          "text": [
            "Qual o pH do solo durante a última medição?10\n",
            "O pH medido foi  10.0\n"
          ]
        }
      ]
    },
    {
      "cell_type": "code",
      "metadata": {
        "id": "TWKEPsOHosFh",
        "colab": {
          "base_uri": "https://localhost:8080/"
        },
        "outputId": "cb5e2916-b051-42d8-82fd-565925e1f6b4"
      },
      "source": [
        "nome = str(input('Qual o seu nome?'))\n",
        "print('Seu nome é', nome)"
      ],
      "execution_count": 13,
      "outputs": [
        {
          "output_type": "stream",
          "name": "stdout",
          "text": [
            "Qual o seu nome?Victor\n",
            "Seu nome é Victor\n"
          ]
        }
      ]
    },
    {
      "cell_type": "code",
      "metadata": {
        "id": "WS0kaS_jo5c2",
        "colab": {
          "base_uri": "https://localhost:8080/"
        },
        "outputId": "985f6af9-9b4f-485e-e33c-5517a2b37b0e"
      },
      "source": [
        "idade"
      ],
      "execution_count": 14,
      "outputs": [
        {
          "output_type": "execute_result",
          "data": {
            "text/plain": [
              "10"
            ]
          },
          "metadata": {},
          "execution_count": 14
        }
      ]
    },
    {
      "cell_type": "code",
      "source": [],
      "metadata": {
        "id": "_r9wM7lDck9c"
      },
      "execution_count": null,
      "outputs": []
    }
  ]
}